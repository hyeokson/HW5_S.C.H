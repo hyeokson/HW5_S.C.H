{
 "cells": [
  {
   "cell_type": "code",
   "execution_count": 4,
   "id": "2fea8948",
   "metadata": {},
   "outputs": [
    {
     "name": "stdout",
     "output_type": "stream",
     "text": [
      "*** Subway Report for Seoul on March 2023 ***\n",
      "\n",
      "1st Busiest Line : Line 2 (85620512)\n",
      "\n",
      "2nd Busiest Line : Line 5 (39671990)\n",
      "\n",
      "1st Least used Line : Line 8 (11863928)\n",
      "\n",
      "2nd Least used Line : Line 1 (14705833)\n"
     ]
    }
   ],
   "source": [
    "import csv\n",
    "\n",
    "\n",
    "def check(s) :\n",
    "    if s[0]>='1' and s[0]<='9' and s[1]=='호' and s[2]=='선':\n",
    "        return True\n",
    "    else :\n",
    "        return False\n",
    "def main() :\n",
    "    f=open('q3.csv')\n",
    "    data=csv.reader(f)\n",
    "    header=next(data)\n",
    "    num=[0]*9\n",
    "    for row in data :\n",
    "        if check(row[1]) and row[4]!='' and row[5]!='':\n",
    "            line=int(row[1][0])\n",
    "            num[line-1]+=int(row[4])+int(row[5])\n",
    "    print(\"*** Subway Report for Seoul on March 2023 ***\\n\")\n",
    "    \n",
    "    maxNum1=num[0]\n",
    "    maxLine1='1'\n",
    "    for i in range(9) :\n",
    "        if maxNum1 < num[i] :\n",
    "            maxNum1=num[i]\n",
    "            maxLine1=str(i+1)\n",
    "    print(\"1st Busiest Line : Line {0:s} ({1:d})\\n\".format(maxLine1, maxNum1))\n",
    "    \n",
    "    maxNum2=num[0]\n",
    "    maxLine2='1'\n",
    "    if maxLine1==\"1\" :\n",
    "        maxNum2=num[1]\n",
    "        maxLine2=\"2\"\n",
    "    for i in range(9) :\n",
    "        if maxNum2 < num[i] and i!=int(maxLine1)-1 :\n",
    "            maxNum2=num[i]\n",
    "            maxLine2=str(i+1)\n",
    "    print(\"2nd Busiest Line : Line {0:s} ({1:d})\\n\".format(maxLine2, maxNum2))\n",
    "    \n",
    "    minNum1=num[0]\n",
    "    minLine1='1'\n",
    "    \n",
    "    for i in range(9) :\n",
    "        if minNum1 > num[i] :\n",
    "            minNum1=num[i]\n",
    "            minLine1=str(i+1)\n",
    "    print(\"1st Least used Line : Line {0:s} ({1:d})\\n\".format(minLine1, minNum1))\n",
    "    \n",
    "    minNum2=num[0]\n",
    "    minLine2='1'\n",
    "    if minLine1==\"1\" :\n",
    "        minNum2=num[1]\n",
    "        minLine2=\"2\"\n",
    "    for i in range(9) :\n",
    "        if minNum2 > num[i] and i!=int(minLine1)-1 :\n",
    "            minNum2=num[i]\n",
    "            minLine2=str(i+1)\n",
    "    print(\"2nd Least used Line : Line {0:s} ({1:d})\".format(minLine2, minNum2))\n",
    "    \n",
    "    f.close()\n",
    "    \n",
    "if(__name__ == \"__main__\") :\n",
    "    main()"
   ]
  },
  {
   "cell_type": "code",
   "execution_count": null,
   "id": "583bc456",
   "metadata": {},
   "outputs": [],
   "source": []
  }
 ],
 "metadata": {
  "kernelspec": {
   "display_name": "Python 3 (ipykernel)",
   "language": "python",
   "name": "python3"
  },
  "language_info": {
   "codemirror_mode": {
    "name": "ipython",
    "version": 3
   },
   "file_extension": ".py",
   "mimetype": "text/x-python",
   "name": "python",
   "nbconvert_exporter": "python",
   "pygments_lexer": "ipython3",
   "version": "3.9.13"
  }
 },
 "nbformat": 4,
 "nbformat_minor": 5
}
