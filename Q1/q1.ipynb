{
 "cells": [
  {
   "cell_type": "code",
   "execution_count": 12,
   "id": "3eeccd35",
   "metadata": {},
   "outputs": [
    {
     "name": "stdout",
     "output_type": "stream",
     "text": [
      "*** Annual Temperature Report for Seoul in 2022 ***\n",
      "\n",
      "Average Temperature: 13.26 Celsius\n",
      "\n",
      "Average Minimum Temperature: 9.21 Celsius\n",
      "\n",
      "Average Maximum Temperature: 18.05 Celsius\n"
     ]
    }
   ],
   "source": [
    "import csv\n",
    "\n",
    "\n",
    "def main() :\n",
    "    f=open('q1.csv')\n",
    "    data=csv.reader(f)\n",
    "    header=next(data)\n",
    "    avgTemp=0.0\n",
    "    minTemp=0.0\n",
    "    maxTemp=0.0\n",
    "    size=0\n",
    "    for row in data :\n",
    "        if row[0]=='' or row[1]=='' or row[2]=='' or row[3]=='' or row[4]=='' :\n",
    "            continue\n",
    "        for i in range(2, 5) :\n",
    "            row[i]=float(row[i])\n",
    "        avgTemp+=row[2]\n",
    "        minTemp+=row[3]\n",
    "        maxTemp+=row[4]\n",
    "        size+=1\n",
    "    avgTemp=avgTemp/size\n",
    "    minTemp=minTemp/size\n",
    "    maxTemp=maxTemp/size\n",
    "    print(\"*** Annual Temperature Report for Seoul in 2022 ***\\n\")\n",
    "    print(\"Average Temperature: {0:.2f} Celsius\\n\".format(avgTemp))\n",
    "    print(\"Average Minimum Temperature: {0:.2f} Celsius\\n\".format(minTemp))\n",
    "    print(\"Average Maximum Temperature: {0:.2f} Celsius\".format(maxTemp))\n",
    "    f.close()\n",
    "\n",
    "if(__name__ == \"__main__\") :\n",
    "    main()"
   ]
  },
  {
   "cell_type": "code",
   "execution_count": null,
   "id": "e3aaf7a3",
   "metadata": {},
   "outputs": [],
   "source": []
  }
 ],
 "metadata": {
  "kernelspec": {
   "display_name": "Python 3 (ipykernel)",
   "language": "python",
   "name": "python3"
  },
  "language_info": {
   "codemirror_mode": {
    "name": "ipython",
    "version": 3
   },
   "file_extension": ".py",
   "mimetype": "text/x-python",
   "name": "python",
   "nbconvert_exporter": "python",
   "pygments_lexer": "ipython3",
   "version": "3.9.13"
  }
 },
 "nbformat": 4,
 "nbformat_minor": 5
}
