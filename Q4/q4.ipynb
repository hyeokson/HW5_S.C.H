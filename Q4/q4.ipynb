{
 "cells": [
  {
   "cell_type": "code",
   "execution_count": 5,
   "id": "28131ede",
   "metadata": {},
   "outputs": [
    {
     "name": "stdout",
     "output_type": "stream",
     "text": [
      "*** Subway Report for Seoul on March 2023 ***\n",
      "\n",
      "Line 1:\n",
      "\n",
      "Busiest Station : 서울역 (3084227)\n",
      "\n",
      "Least used Station : 동묘앞 (658566)\n",
      "\n",
      "Line 2:\n",
      "\n",
      "Busiest Station : 강남 (4690366)\n",
      "\n",
      "Least used Station : 도림천 (80084)\n",
      "\n",
      "Line 3:\n",
      "\n",
      "Busiest Station : 고속터미널 (2886887)\n",
      "\n",
      "Least used Station : 충무로 (48)\n",
      "\n",
      "Line 4:\n",
      "\n",
      "Busiest Station : 혜화 (2286709)\n",
      "\n",
      "Least used Station : 남태령 (79916)\n",
      "\n"
     ]
    }
   ],
   "source": [
    "import csv\n",
    "\n",
    "\n",
    "def check(s):\n",
    "    if s[0]>='1' and s[0]<='4' and s[1]==\"호\" and s[2]=='선'  :\n",
    "        return True\n",
    "    else :\n",
    "        return False\n",
    "def main() :\n",
    "    f=open('q4.csv')\n",
    "    data=csv.reader(f)\n",
    "    header=next(data)\n",
    "    busyStation=[\"\"]*4\n",
    "    busyNum=[-1]*4\n",
    "    leastStation=[\"\"]*4\n",
    "    leastNum=[-1]*4\n",
    "    for row in data :\n",
    "        if(check(row[1]) and row[3]!=\"\" and row[4]!=\"\" and row[5]!=\"\") :\n",
    "            line=int(row[1][0])\n",
    "            row[4]=int(row[4])\n",
    "            row[5]=int(row[5])\n",
    "            if(busyNum[line-1]==-1 or busyNum[line-1] < row[4]+row[5]):\n",
    "                busyNum[line-1]=row[4]+row[5]\n",
    "                busyStation[line-1]=row[3]\n",
    "            if(leastNum[line-1]==-1 or leastNum[line-1] > row[4]+row[5]):\n",
    "                leastNum[line-1]=row[4]+row[5]\n",
    "                leastStation[line-1]=row[3]\n",
    "    print(\"*** Subway Report for Seoul on March 2023 ***\\n\")\n",
    "    for i in range(4) :\n",
    "        print(\"Line {0:d}:\\n\".format(i+1))\n",
    "        print(\"Busiest Station : {0:s} ({1:d})\\n\".format(busyStation[i], busyNum[i]))\n",
    "        print(\"Least used Station : {0:s} ({1:d})\\n\".format(leastStation[i], leastNum[i]))\n",
    "    f.close()\n",
    "    \n",
    "    \n",
    "if(__name__ == \"__main__\") :\n",
    "    main()"
   ]
  },
  {
   "cell_type": "code",
   "execution_count": null,
   "id": "68b68647",
   "metadata": {},
   "outputs": [],
   "source": []
  }
 ],
 "metadata": {
  "kernelspec": {
   "display_name": "Python 3 (ipykernel)",
   "language": "python",
   "name": "python3"
  },
  "language_info": {
   "codemirror_mode": {
    "name": "ipython",
    "version": 3
   },
   "file_extension": ".py",
   "mimetype": "text/x-python",
   "name": "python",
   "nbconvert_exporter": "python",
   "pygments_lexer": "ipython3",
   "version": "3.9.13"
  }
 },
 "nbformat": 4,
 "nbformat_minor": 5
}
