{
 "cells": [
  {
   "cell_type": "code",
   "execution_count": 8,
   "id": "7a275d64",
   "metadata": {},
   "outputs": [
    {
     "name": "stdout",
     "output_type": "stream",
     "text": [
      "*** Annual Temperature Report for Seoul in 2022 ***\n",
      "\n",
      "Day with the Largest Temperature Variation: 2022-11-29\n",
      "\n",
      "Maximum Temperature Difference: 16.6 Celsius\n",
      "\n",
      "Day with the Smallest Temperature Variation: 2022-06-29\n",
      "\n",
      "Minimum Temperature Difference: 1.7 Celsius\n"
     ]
    }
   ],
   "source": [
    "import csv\n",
    "\n",
    "\n",
    "def main() :\n",
    "    f=open('q2.csv')\n",
    "    data=csv.reader(f)\n",
    "    header=next(data)\n",
    "    maxDay=\"\"\n",
    "    minDay=\"\"\n",
    "    maxDiff=-1.0\n",
    "    minDiff=-1.0\n",
    "    for row in data :\n",
    "        if row[0]=='' or row[1]=='' or row[2]=='' or row[3]=='' or row[4]=='' :\n",
    "            continue\n",
    "        for i in range(3, 5) :\n",
    "            row[i]=float(row[i])\n",
    "            \n",
    "        if maxDiff==-1.0 and minDiff==-1.0 :\n",
    "            maxDiff=row[4]-row[3]\n",
    "            minDiff=row[4]-row[3]\n",
    "            continue\n",
    "        if row[4]-row[3] > maxDiff :\n",
    "            maxDiff=row[4]-row[3]\n",
    "            maxDay=row[0]\n",
    "        if row[4]-row[3] < minDiff :\n",
    "            minDiff=row[4]-row[3]\n",
    "            minDay=row[0]\n",
    "    print(\"*** Annual Temperature Report for Seoul in 2022 ***\\n\")\n",
    "    print(\"Day with the Largest Temperature Variation: {0:s}\\n\".format(maxDay))\n",
    "    print(\"Maximum Temperature Difference: {0:.1f} Celsius\\n\".format(maxDiff))\n",
    "    print(\"Day with the Smallest Temperature Variation: {0:s}\\n\".format(minDay))\n",
    "    print(\"Minimum Temperature Difference: {0:.1f} Celsius\".format(minDiff))\n",
    "    f.close()\n",
    "          \n",
    "if(__name__ == \"__main__\") :\n",
    "    main()"
   ]
  },
  {
   "cell_type": "code",
   "execution_count": null,
   "id": "c063b8f3",
   "metadata": {},
   "outputs": [],
   "source": []
  }
 ],
 "metadata": {
  "kernelspec": {
   "display_name": "Python 3 (ipykernel)",
   "language": "python",
   "name": "python3"
  },
  "language_info": {
   "codemirror_mode": {
    "name": "ipython",
    "version": 3
   },
   "file_extension": ".py",
   "mimetype": "text/x-python",
   "name": "python",
   "nbconvert_exporter": "python",
   "pygments_lexer": "ipython3",
   "version": "3.9.13"
  }
 },
 "nbformat": 4,
 "nbformat_minor": 5
}
